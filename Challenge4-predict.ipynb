{
 "cells": [
  {
   "cell_type": "code",
   "execution_count": 1,
   "metadata": {},
   "outputs": [],
   "source": [
    "import os\n",
    "os.environ[\"CUDA_DEVICE_ORDER\"] = \"PCI_BUS_ID\"\n",
    "os.environ[\"CUDA_VISIBLE_DEVICES\"] = \"\""
   ]
  },
  {
   "cell_type": "code",
   "execution_count": 2,
   "metadata": {},
   "outputs": [
    {
     "name": "stderr",
     "output_type": "stream",
     "text": [
      "/anaconda/envs/py35/lib/python3.5/site-packages/h5py/__init__.py:36: FutureWarning: Conversion of the second argument of issubdtype from `float` to `np.floating` is deprecated. In future, it will be treated as `np.float64 == np.dtype(float).type`.\n",
      "  from ._conv import register_converters as _register_converters\n",
      "Using TensorFlow backend.\n"
     ]
    }
   ],
   "source": [
    "from keras.models import load_model"
   ]
  },
  {
   "cell_type": "code",
   "execution_count": 3,
   "metadata": {},
   "outputs": [],
   "source": [
    "model = load_model('challenge2_12ep.h5')"
   ]
  },
  {
   "cell_type": "code",
   "execution_count": 4,
   "metadata": {},
   "outputs": [
    {
     "name": "stdout",
     "output_type": "stream",
     "text": [
      "_________________________________________________________________\n",
      "Layer (type)                 Output Shape              Param #   \n",
      "=================================================================\n",
      "input_1 (InputLayer)         (None, 128, 128, 3)       0         \n",
      "_________________________________________________________________\n",
      "block1_conv1 (Conv2D)        (None, 128, 128, 64)      1792      \n",
      "_________________________________________________________________\n",
      "block1_conv2 (Conv2D)        (None, 128, 128, 64)      36928     \n",
      "_________________________________________________________________\n",
      "block1_pool (MaxPooling2D)   (None, 64, 64, 64)        0         \n",
      "_________________________________________________________________\n",
      "block2_conv1 (Conv2D)        (None, 64, 64, 128)       73856     \n",
      "_________________________________________________________________\n",
      "block2_conv2 (Conv2D)        (None, 64, 64, 128)       147584    \n",
      "_________________________________________________________________\n",
      "block2_pool (MaxPooling2D)   (None, 32, 32, 128)       0         \n",
      "_________________________________________________________________\n",
      "block3_conv1 (Conv2D)        (None, 32, 32, 256)       295168    \n",
      "_________________________________________________________________\n",
      "block3_conv2 (Conv2D)        (None, 32, 32, 256)       590080    \n",
      "_________________________________________________________________\n",
      "block3_conv3 (Conv2D)        (None, 32, 32, 256)       590080    \n",
      "_________________________________________________________________\n",
      "block3_conv4 (Conv2D)        (None, 32, 32, 256)       590080    \n",
      "_________________________________________________________________\n",
      "block3_pool (MaxPooling2D)   (None, 16, 16, 256)       0         \n",
      "_________________________________________________________________\n",
      "block4_conv1 (Conv2D)        (None, 16, 16, 512)       1180160   \n",
      "_________________________________________________________________\n",
      "block4_conv2 (Conv2D)        (None, 16, 16, 512)       2359808   \n",
      "_________________________________________________________________\n",
      "block4_conv3 (Conv2D)        (None, 16, 16, 512)       2359808   \n",
      "_________________________________________________________________\n",
      "block4_conv4 (Conv2D)        (None, 16, 16, 512)       2359808   \n",
      "_________________________________________________________________\n",
      "block4_pool (MaxPooling2D)   (None, 8, 8, 512)         0         \n",
      "_________________________________________________________________\n",
      "block5_conv1 (Conv2D)        (None, 8, 8, 512)         2359808   \n",
      "_________________________________________________________________\n",
      "block5_conv2 (Conv2D)        (None, 8, 8, 512)         2359808   \n",
      "_________________________________________________________________\n",
      "block5_conv3 (Conv2D)        (None, 8, 8, 512)         2359808   \n",
      "_________________________________________________________________\n",
      "block5_conv4 (Conv2D)        (None, 8, 8, 512)         2359808   \n",
      "_________________________________________________________________\n",
      "block5_pool (MaxPooling2D)   (None, 4, 4, 512)         0         \n",
      "_________________________________________________________________\n",
      "flatten (Flatten)            (None, 8192)              0         \n",
      "_________________________________________________________________\n",
      "fc1 (Dense)                  (None, 4096)              33558528  \n",
      "_________________________________________________________________\n",
      "fc2 (Dense)                  (None, 4096)              16781312  \n",
      "_________________________________________________________________\n",
      "predictions (Dense)          (None, 12)                49164     \n",
      "=================================================================\n",
      "Total params: 70,413,388\n",
      "Trainable params: 70,413,388\n",
      "Non-trainable params: 0\n",
      "_________________________________________________________________\n"
     ]
    }
   ],
   "source": [
    "model.summary()"
   ]
  },
  {
   "cell_type": "code",
   "execution_count": 9,
   "metadata": {},
   "outputs": [],
   "source": [
    "from keras.preprocessing.image import load_img, img_to_array\n",
    "import numpy as np"
   ]
  },
  {
   "cell_type": "code",
   "execution_count": 19,
   "metadata": {},
   "outputs": [],
   "source": [
    "img = load_img('gear_images_128x128_tst/boots/10323079x1040337_zm.jpg', target_size=(128, 128))\n",
    "img = img_to_array(img)\n",
    "img = img.reshape((1,) + img.shape)"
   ]
  },
  {
   "cell_type": "code",
   "execution_count": 20,
   "metadata": {},
   "outputs": [],
   "source": [
    "pred = model.predict(img)"
   ]
  },
  {
   "cell_type": "code",
   "execution_count": 21,
   "metadata": {},
   "outputs": [
    {
     "data": {
      "text/plain": [
       "(1, 0.8718752)"
      ]
     },
     "execution_count": 21,
     "metadata": {},
     "output_type": "execute_result"
    }
   ],
   "source": [
    "np.argmax(pred), np.amax(pred)"
   ]
  },
  {
   "cell_type": "code",
   "execution_count": 2,
   "metadata": {},
   "outputs": [],
   "source": [
    "import base64\n",
    "\n",
    "with open(\"gear_images_128x128_tst/axes/10036053x1012980_zm.jpg\", \"rb\") as image_file:\n",
    "    encoded_string = base64.b64encode(image_file.read())"
   ]
  },
  {
   "cell_type": "code",
   "execution_count": 3,
   "metadata": {},
   "outputs": [
    {
     "data": {
      "text/plain": [
       "b'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'"
      ]
     },
     "execution_count": 3,
     "metadata": {},
     "output_type": "execute_result"
    }
   ],
   "source": [
    "encoded_string"
   ]
  },
  {
   "cell_type": "code",
   "execution_count": 4,
   "metadata": {},
   "outputs": [],
   "source": [
    "import app"
   ]
  },
  {
   "cell_type": "code",
   "execution_count": 7,
   "metadata": {},
   "outputs": [
    {
     "name": "stdout",
     "output_type": "stream",
     "text": [
      "{\"pred\": \"0\"}\n"
     ]
    }
   ],
   "source": [
    "app.main()"
   ]
  }
 ],
 "metadata": {
  "kernelspec": {
   "display_name": "Python 3",
   "language": "python",
   "name": "python3"
  },
  "language_info": {
   "codemirror_mode": {
    "name": "ipython",
    "version": 3
   },
   "file_extension": ".py",
   "mimetype": "text/x-python",
   "name": "python",
   "nbconvert_exporter": "python",
   "pygments_lexer": "ipython3",
   "version": "3.5.4"
  }
 },
 "nbformat": 4,
 "nbformat_minor": 2
}
