{
 "cells": [
  {
   "cell_type": "code",
   "execution_count": 1,
   "metadata": {},
   "outputs": [
    {
     "name": "stdout",
     "output_type": "stream",
     "text": [
      "azureml\r\n",
      "BatchAI\r\n",
      "Chainer\r\n",
      "Deep_learning_frameworks\r\n",
      "Deep_learning_tutorials\r\n",
      "deep_water\r\n",
      "DocumentDBSample.ipynb\r\n",
      "gear_images\r\n",
      "gear_images.zip\r\n",
      "h2o\r\n",
      "IDEAR.ipynb\r\n",
      "Introduction to Azure ML R notebooks.ipynb\r\n",
      "Introduction to Microsoft R Operationalization.ipynb\r\n",
      "IntroToJupyterPython.ipynb\r\n",
      "IntroTutorialinMicrosoftR.ipynb\r\n",
      "IntroTutorialinR.ipynb\r\n",
      "IrisClassifierPyMLWebService.ipynb\r\n",
      "julia\r\n",
      "LoadDataIntoDW.ipynb\r\n",
      "MMLSpark\r\n",
      "OH_Task_2.ipynb\r\n",
      "OHuser_task1.ipynb\r\n",
      "pytorch\r\n",
      "SparkML\r\n",
      "SQLDW_Explorations.ipynb\r\n",
      "test\r\n",
      "Untitled1.ipynb\r\n",
      "Untitled2.ipynb\r\n",
      "Untitled.ipynb\r\n"
     ]
    }
   ],
   "source": [
    "!ls"
   ]
  },
  {
   "cell_type": "code",
   "execution_count": 2,
   "metadata": {},
   "outputs": [],
   "source": [
    "%reload_ext autoreload\n",
    "%autoreload 2\n",
    "%matplotlib inline"
   ]
  },
  {
   "cell_type": "code",
   "execution_count": 3,
   "metadata": {},
   "outputs": [],
   "source": [
    "from fastai.imports import *"
   ]
  },
  {
   "cell_type": "code",
   "execution_count": 4,
   "metadata": {},
   "outputs": [
    {
     "ename": "SyntaxError",
     "evalue": "invalid syntax (torch_imports.py, line 32)",
     "output_type": "error",
     "traceback": [
      "Traceback \u001b[0;36m(most recent call last)\u001b[0m:\n",
      "  File \u001b[1;32m\"/anaconda/envs/py35/lib/python3.5/site-packages/IPython/core/interactiveshell.py\"\u001b[0m, line \u001b[1;32m2910\u001b[0m, in \u001b[1;35mrun_code\u001b[0m\n    exec(code_obj, self.user_global_ns, self.user_ns)\n",
      "  File \u001b[1;32m\"<ipython-input-4-b4501b23c5cb>\"\u001b[0m, line \u001b[1;32m1\u001b[0m, in \u001b[1;35m<module>\u001b[0m\n    from fastai.transforms import *\n",
      "  File \u001b[1;32m\"/anaconda/envs/py35/lib/python3.5/site-packages/fastai/transforms.py\"\u001b[0m, line \u001b[1;32m2\u001b[0m, in \u001b[1;35m<module>\u001b[0m\n    from .layer_optimizer import *\n",
      "\u001b[0;36m  File \u001b[0;32m\"/anaconda/envs/py35/lib/python3.5/site-packages/fastai/layer_optimizer.py\"\u001b[0;36m, line \u001b[0;32m2\u001b[0;36m, in \u001b[0;35m<module>\u001b[0;36m\u001b[0m\n\u001b[0;31m    from .torch_imports import *\u001b[0m\n",
      "\u001b[0;36m  File \u001b[0;32m\"/anaconda/envs/py35/lib/python3.5/site-packages/fastai/torch_imports.py\"\u001b[0;36m, line \u001b[0;32m32\u001b[0m\n\u001b[0;31m    if pre: load_model(m, f'{path}/weights/{fn}.pth')\u001b[0m\n\u001b[0m                                                   ^\u001b[0m\n\u001b[0;31mSyntaxError\u001b[0m\u001b[0;31m:\u001b[0m invalid syntax\n"
     ]
    }
   ],
   "source": [
    "from fastai.transforms import *\n",
    "from fastai.conv_learner import *\n",
    "from fastai.model import *\n",
    "from fastai.dataset import *\n",
    "from fastai.sgdr import *\n",
    "from fastai.plots import *"
   ]
  },
  {
   "cell_type": "code",
   "execution_count": null,
   "metadata": {},
   "outputs": [],
   "source": []
  },
  {
   "cell_type": "code",
   "execution_count": null,
   "metadata": {},
   "outputs": [],
   "source": []
  },
  {
   "cell_type": "code",
   "execution_count": null,
   "metadata": {},
   "outputs": [],
   "source": []
  },
  {
   "cell_type": "code",
   "execution_count": null,
   "metadata": {},
   "outputs": [],
   "source": []
  }
 ],
 "metadata": {
  "kernelspec": {
   "display_name": "Python 3",
   "language": "python",
   "name": "python3"
  },
  "language_info": {
   "codemirror_mode": {
    "name": "ipython",
    "version": 3
   },
   "file_extension": ".py",
   "mimetype": "text/x-python",
   "name": "python",
   "nbconvert_exporter": "python",
   "pygments_lexer": "ipython3",
   "version": "3.5.4"
  }
 },
 "nbformat": 4,
 "nbformat_minor": 2
}
