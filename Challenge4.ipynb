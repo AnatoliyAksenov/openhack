{
 "cells": [
  {
   "cell_type": "code",
   "execution_count": 1,
   "metadata": {},
   "outputs": [],
   "source": [
    "import numpy as np\n",
    "import cntk as C\n",
    "from cntk.io import UserMinibatchSource, StreamInformation, MinibatchData"
   ]
  },
  {
   "cell_type": "code",
   "execution_count": 2,
   "metadata": {},
   "outputs": [],
   "source": [
    "from glob import glob\n",
    "import re\n",
    "import PIL as Image"
   ]
  },
  {
   "cell_type": "code",
   "execution_count": 20,
   "metadata": {},
   "outputs": [],
   "source": [
    "lst = glob('gear_images_128x128_tst/*/*')"
   ]
  },
  {
   "cell_type": "code",
   "execution_count": 21,
   "metadata": {},
   "outputs": [],
   "source": [
    "data = [(re.findall(r'(.*)\\/(.*)\\/([^\\/]*)',f)[0][1], f) for f in lst]"
   ]
  },
  {
   "cell_type": "code",
   "execution_count": 3,
   "metadata": {},
   "outputs": [],
   "source": [
    "from sklearn.preprocessing import LabelEncoder\n",
    "from sklearn.model_selection import train_test_split\n",
    "import numpy as np"
   ]
  },
  {
   "cell_type": "code",
   "execution_count": 22,
   "metadata": {},
   "outputs": [],
   "source": [
    "le = LabelEncoder()"
   ]
  },
  {
   "cell_type": "code",
   "execution_count": 23,
   "metadata": {},
   "outputs": [],
   "source": [
    "X_train_, X_test_, y_train_, y_test_ = train_test_split([x for x in data],[x[0] for x in data])"
   ]
  },
  {
   "cell_type": "code",
   "execution_count": 41,
   "metadata": {},
   "outputs": [],
   "source": [
    "y_train = le.fit_transform(y_train_)\n",
    "y_test = le.fit_transform(y_test_)"
   ]
  },
  {
   "cell_type": "code",
   "execution_count": 9,
   "metadata": {},
   "outputs": [
    {
     "ename": "AttributeError",
     "evalue": "'tuple' object has no attribute 'read'",
     "output_type": "error",
     "traceback": [
      "\u001b[0;31m---------------------------------------------------------------------------\u001b[0m",
      "\u001b[0;31mAttributeError\u001b[0m                            Traceback (most recent call last)",
      "\u001b[0;32m/anaconda/envs/py35/lib/python3.5/site-packages/PIL/Image.py\u001b[0m in \u001b[0;36mopen\u001b[0;34m(fp, mode)\u001b[0m\n\u001b[1;32m   2546\u001b[0m     \u001b[0;32mtry\u001b[0m\u001b[0;34m:\u001b[0m\u001b[0;34m\u001b[0m\u001b[0m\n\u001b[0;32m-> 2547\u001b[0;31m         \u001b[0mfp\u001b[0m\u001b[0;34m.\u001b[0m\u001b[0mseek\u001b[0m\u001b[0;34m(\u001b[0m\u001b[0;36m0\u001b[0m\u001b[0;34m)\u001b[0m\u001b[0;34m\u001b[0m\u001b[0m\n\u001b[0m\u001b[1;32m   2548\u001b[0m     \u001b[0;32mexcept\u001b[0m \u001b[0;34m(\u001b[0m\u001b[0mAttributeError\u001b[0m\u001b[0;34m,\u001b[0m \u001b[0mio\u001b[0m\u001b[0;34m.\u001b[0m\u001b[0mUnsupportedOperation\u001b[0m\u001b[0;34m)\u001b[0m\u001b[0;34m:\u001b[0m\u001b[0;34m\u001b[0m\u001b[0m\n",
      "\u001b[0;31mAttributeError\u001b[0m: 'tuple' object has no attribute 'seek'",
      "\nDuring handling of the above exception, another exception occurred:\n",
      "\u001b[0;31mAttributeError\u001b[0m                            Traceback (most recent call last)",
      "\u001b[0;32m<ipython-input-9-4309cb0068ac>\u001b[0m in \u001b[0;36m<module>\u001b[0;34m()\u001b[0m\n\u001b[0;32m----> 1\u001b[0;31m \u001b[0mX_train\u001b[0m \u001b[0;34m=\u001b[0m \u001b[0;34m[\u001b[0m\u001b[0mnp\u001b[0m\u001b[0;34m.\u001b[0m\u001b[0marray\u001b[0m\u001b[0;34m(\u001b[0m\u001b[0mImage\u001b[0m\u001b[0;34m.\u001b[0m\u001b[0mImage\u001b[0m\u001b[0;34m.\u001b[0m\u001b[0mopen\u001b[0m\u001b[0;34m(\u001b[0m\u001b[0mx\u001b[0m\u001b[0;34m)\u001b[0m\u001b[0;34m)\u001b[0m\u001b[0;34m.\u001b[0m\u001b[0mreshape\u001b[0m\u001b[0;34m(\u001b[0m\u001b[0;34m-\u001b[0m\u001b[0;36m1\u001b[0m\u001b[0;34m)\u001b[0m\u001b[0;34m.\u001b[0m\u001b[0mreshape\u001b[0m\u001b[0;34m(\u001b[0m\u001b[0;34m-\u001b[0m\u001b[0;36m1\u001b[0m\u001b[0;34m)\u001b[0m \u001b[0;32mfor\u001b[0m \u001b[0mx\u001b[0m \u001b[0;32min\u001b[0m \u001b[0mX_train_\u001b[0m\u001b[0;34m]\u001b[0m\u001b[0;34m\u001b[0m\u001b[0m\n\u001b[0m\u001b[1;32m      2\u001b[0m \u001b[0mX_test\u001b[0m \u001b[0;34m=\u001b[0m \u001b[0;34m[\u001b[0m\u001b[0mnp\u001b[0m\u001b[0;34m.\u001b[0m\u001b[0marray\u001b[0m\u001b[0;34m(\u001b[0m\u001b[0mImage\u001b[0m\u001b[0;34m.\u001b[0m\u001b[0mImage\u001b[0m\u001b[0;34m.\u001b[0m\u001b[0mopen\u001b[0m\u001b[0;34m(\u001b[0m\u001b[0mx\u001b[0m\u001b[0;34m)\u001b[0m\u001b[0;34m)\u001b[0m\u001b[0;34m.\u001b[0m\u001b[0mreshape\u001b[0m\u001b[0;34m(\u001b[0m\u001b[0;34m-\u001b[0m\u001b[0;36m1\u001b[0m\u001b[0;34m)\u001b[0m\u001b[0;34m.\u001b[0m\u001b[0mreshape\u001b[0m\u001b[0;34m(\u001b[0m\u001b[0;34m-\u001b[0m\u001b[0;36m1\u001b[0m\u001b[0;34m)\u001b[0m \u001b[0;32mfor\u001b[0m \u001b[0mx\u001b[0m \u001b[0;32min\u001b[0m \u001b[0mX_test_\u001b[0m\u001b[0;34m]\u001b[0m\u001b[0;34m\u001b[0m\u001b[0m\n",
      "\u001b[0;32m<ipython-input-9-4309cb0068ac>\u001b[0m in \u001b[0;36m<listcomp>\u001b[0;34m(.0)\u001b[0m\n\u001b[0;32m----> 1\u001b[0;31m \u001b[0mX_train\u001b[0m \u001b[0;34m=\u001b[0m \u001b[0;34m[\u001b[0m\u001b[0mnp\u001b[0m\u001b[0;34m.\u001b[0m\u001b[0marray\u001b[0m\u001b[0;34m(\u001b[0m\u001b[0mImage\u001b[0m\u001b[0;34m.\u001b[0m\u001b[0mImage\u001b[0m\u001b[0;34m.\u001b[0m\u001b[0mopen\u001b[0m\u001b[0;34m(\u001b[0m\u001b[0mx\u001b[0m\u001b[0;34m)\u001b[0m\u001b[0;34m)\u001b[0m\u001b[0;34m.\u001b[0m\u001b[0mreshape\u001b[0m\u001b[0;34m(\u001b[0m\u001b[0;34m-\u001b[0m\u001b[0;36m1\u001b[0m\u001b[0;34m)\u001b[0m\u001b[0;34m.\u001b[0m\u001b[0mreshape\u001b[0m\u001b[0;34m(\u001b[0m\u001b[0;34m-\u001b[0m\u001b[0;36m1\u001b[0m\u001b[0;34m)\u001b[0m \u001b[0;32mfor\u001b[0m \u001b[0mx\u001b[0m \u001b[0;32min\u001b[0m \u001b[0mX_train_\u001b[0m\u001b[0;34m]\u001b[0m\u001b[0;34m\u001b[0m\u001b[0m\n\u001b[0m\u001b[1;32m      2\u001b[0m \u001b[0mX_test\u001b[0m \u001b[0;34m=\u001b[0m \u001b[0;34m[\u001b[0m\u001b[0mnp\u001b[0m\u001b[0;34m.\u001b[0m\u001b[0marray\u001b[0m\u001b[0;34m(\u001b[0m\u001b[0mImage\u001b[0m\u001b[0;34m.\u001b[0m\u001b[0mImage\u001b[0m\u001b[0;34m.\u001b[0m\u001b[0mopen\u001b[0m\u001b[0;34m(\u001b[0m\u001b[0mx\u001b[0m\u001b[0;34m)\u001b[0m\u001b[0;34m)\u001b[0m\u001b[0;34m.\u001b[0m\u001b[0mreshape\u001b[0m\u001b[0;34m(\u001b[0m\u001b[0;34m-\u001b[0m\u001b[0;36m1\u001b[0m\u001b[0;34m)\u001b[0m\u001b[0;34m.\u001b[0m\u001b[0mreshape\u001b[0m\u001b[0;34m(\u001b[0m\u001b[0;34m-\u001b[0m\u001b[0;36m1\u001b[0m\u001b[0;34m)\u001b[0m \u001b[0;32mfor\u001b[0m \u001b[0mx\u001b[0m \u001b[0;32min\u001b[0m \u001b[0mX_test_\u001b[0m\u001b[0;34m]\u001b[0m\u001b[0;34m\u001b[0m\u001b[0m\n",
      "\u001b[0;32m/anaconda/envs/py35/lib/python3.5/site-packages/PIL/Image.py\u001b[0m in \u001b[0;36mopen\u001b[0;34m(fp, mode)\u001b[0m\n\u001b[1;32m   2547\u001b[0m         \u001b[0mfp\u001b[0m\u001b[0;34m.\u001b[0m\u001b[0mseek\u001b[0m\u001b[0;34m(\u001b[0m\u001b[0;36m0\u001b[0m\u001b[0;34m)\u001b[0m\u001b[0;34m\u001b[0m\u001b[0m\n\u001b[1;32m   2548\u001b[0m     \u001b[0;32mexcept\u001b[0m \u001b[0;34m(\u001b[0m\u001b[0mAttributeError\u001b[0m\u001b[0;34m,\u001b[0m \u001b[0mio\u001b[0m\u001b[0;34m.\u001b[0m\u001b[0mUnsupportedOperation\u001b[0m\u001b[0;34m)\u001b[0m\u001b[0;34m:\u001b[0m\u001b[0;34m\u001b[0m\u001b[0m\n\u001b[0;32m-> 2549\u001b[0;31m         \u001b[0mfp\u001b[0m \u001b[0;34m=\u001b[0m \u001b[0mio\u001b[0m\u001b[0;34m.\u001b[0m\u001b[0mBytesIO\u001b[0m\u001b[0;34m(\u001b[0m\u001b[0mfp\u001b[0m\u001b[0;34m.\u001b[0m\u001b[0mread\u001b[0m\u001b[0;34m(\u001b[0m\u001b[0;34m)\u001b[0m\u001b[0;34m)\u001b[0m\u001b[0;34m\u001b[0m\u001b[0m\n\u001b[0m\u001b[1;32m   2550\u001b[0m         \u001b[0mexclusive_fp\u001b[0m \u001b[0;34m=\u001b[0m \u001b[0;32mTrue\u001b[0m\u001b[0;34m\u001b[0m\u001b[0m\n\u001b[1;32m   2551\u001b[0m \u001b[0;34m\u001b[0m\u001b[0m\n",
      "\u001b[0;31mAttributeError\u001b[0m: 'tuple' object has no attribute 'read'"
     ]
    }
   ],
   "source": [
    "X_train = [np.array(Image.Image.open(x)).reshape(-1).reshape(-1) for x in X_train_]\n",
    "X_test = [np.array(Image.Image.open(x)).reshape(-1).reshape(-1) for x in X_test_]"
   ]
  },
  {
   "cell_type": "code",
   "execution_count": 24,
   "metadata": {},
   "outputs": [],
   "source": [
    "dt_tr = [[x[1], x[0]] for x in X_train_]\n",
    "\n",
    "dt_tr = np.array([np.array(x) for x in dt_tr])\n",
    "\n",
    "dt_tr[:,1] = le.fit_transform(dt_tr[:,1])\n",
    "\n",
    "# dt_tr.tofile('train.txt',sep=\"\\t\", format=\"%s\\n\")\n",
    "\n",
    "with open('train.txt', 'w') as f:\n",
    "    for x in dt_tr:\n",
    "        f.write(str(x[0]) + \"\\t\" + str(x[1]) + \"\\n\")"
   ]
  },
  {
   "cell_type": "code",
   "execution_count": 25,
   "metadata": {},
   "outputs": [],
   "source": [
    "dt_ts = [[x[1], x[0]] for x in X_test_]\n",
    "\n",
    "dt_ts = np.array([np.array(x) for x in dt_ts])\n",
    "\n",
    "dt_ts[:,1] = le.fit_transform(dt_ts[:,1])\n",
    "\n",
    "#dt_ts.tofile('test.txt',sep=\"\", format=\"\\t%s\\n\")\n",
    "with open('test.txt', 'w') as f:\n",
    "    for x in dt_ts:\n",
    "        f.write(str(x[0]) + \"\\t\" + str(x[1]) + \"\\n\")"
   ]
  },
  {
   "cell_type": "code",
   "execution_count": 4,
   "metadata": {},
   "outputs": [],
   "source": [
    "from __future__ import print_function # Use a function definition from future version (say 3.x from 2.7 interpreter)\n",
    "\n",
    "import matplotlib.pyplot as plt\n",
    "import math\n",
    "import numpy as np\n",
    "import os\n",
    "import PIL\n",
    "import sys\n",
    "try:\n",
    "    from urllib.request import urlopen\n",
    "except ImportError:\n",
    "    from urllib import urlopen\n",
    "\n",
    "import cntk as C"
   ]
  },
  {
   "cell_type": "code",
   "execution_count": 5,
   "metadata": {},
   "outputs": [],
   "source": [
    "image_height = 128\n",
    "image_width  = 128\n",
    "num_channels = 3\n",
    "num_classes  = 12\n",
    "\n",
    "import cntk.io.transforms as xforms\n",
    "#\n",
    "# Define the reader for both training and evaluation action.\n",
    "#\n",
    "def create_reader(map_file, mean_file, train):\n",
    "    print(\"Reading map file:\", map_file)\n",
    "    # print(\"Reading mean file:\", mean_file)\n",
    "\n",
    "    # if not os.path.exists(map_file) or not os.path.exists(mean_file):\n",
    "    #     raise RuntimeError(\"This tutorials depends 201A tutorials, please run 201A first.\")\n",
    "\n",
    "    # transformation pipeline for the features has jitter/crop only when training\n",
    "    \n",
    "    \"\"\"\n",
    "    transforms = []\n",
    "    # train uses data augmentation (translation only)\n",
    "    if train:\n",
    "        transforms += [\n",
    "            xforms.crop(crop_type='randomside', side_ratio=0.8)\n",
    "        ]\n",
    "    transforms += [\n",
    "        xforms.scale(width=image_width, height=image_height, channels=num_channels, interpolations='linear'),\n",
    "        xforms.mean(mean_file)\n",
    "    ]\n",
    "    \"\"\"\n",
    "    # deserializer\n",
    "    return C.io.MinibatchSource(C.io.ImageDeserializer(map_file, C.io.StreamDefs(\n",
    "        features = C.io.StreamDef(field='image', transforms=[]), # first column in map file is referred to as 'image' # ,transforms=transforms\n",
    "        labels   = C.io.StreamDef(field='label', shape=num_classes)      # and second as 'label'\n",
    "    )))"
   ]
  },
  {
   "cell_type": "code",
   "execution_count": 6,
   "metadata": {},
   "outputs": [],
   "source": [
    "data_path = \"\""
   ]
  },
  {
   "cell_type": "code",
   "execution_count": 7,
   "metadata": {},
   "outputs": [
    {
     "name": "stdout",
     "output_type": "stream",
     "text": [
      "Reading map file: train.txt\n",
      "Reading map file: test.txt\n"
     ]
    }
   ],
   "source": [
    "reader_train = create_reader(os.path.join(data_path, 'train.txt'),\n",
    "                             os.path.join(data_path, 'cntk-train_a_mean.xml'), True)\n",
    "reader_test  = create_reader(os.path.join(data_path, 'test.txt'),\n",
    "                             os.path.join(data_path, 'cntk-test_a_mean.xml'), False)"
   ]
  },
  {
   "cell_type": "code",
   "execution_count": 11,
   "metadata": {},
   "outputs": [],
   "source": [
    "def create_basic_model(input, out_dims):\n",
    "    with C.layers.default_options(init=C.glorot_uniform(), activation=C.relu):\n",
    "        net = C.layers.Convolution((5,5), 32, pad=True)(input)\n",
    "        net = C.layers.MaxPooling((3,3), strides=(2,2))(net)\n",
    "\n",
    "        net = C.layers.Convolution((5,5), 32, pad=True)(net)\n",
    "        net = C.layers.MaxPooling((3,3), strides=(2,2))(net)\n",
    "        \n",
    "        net = C.layers.Convolution((5,5), 64, pad=True)(net)\n",
    "        net = C.layers.MaxPooling((3,3), strides=(2,2))(net)\n",
    "        \n",
    "        net = C.layers.Dense(64)(net)\n",
    "        net = C.layers.Dense(out_dims, activation=None)(net)\n",
    "\n",
    "    return net"
   ]
  },
  {
   "cell_type": "code",
   "execution_count": 12,
   "metadata": {},
   "outputs": [],
   "source": [
    "def train_and_evaluate(reader_train, reader_test, max_epochs, model_func):\n",
    "    # Input variables denoting the features and label data\n",
    "    input_var = C.input_variable((num_channels, image_height, image_width))\n",
    "    label_var = C.input_variable((num_classes))\n",
    "\n",
    "    # Normalize the input\n",
    "    feature_scale = 1.0 / 256.0\n",
    "    input_var_norm = C.element_times(feature_scale, input_var)\n",
    "\n",
    "    # apply model to input\n",
    "    z = model_func(input_var_norm, out_dims=12)\n",
    "\n",
    "    #\n",
    "    # Training action\n",
    "    #\n",
    "\n",
    "    # loss and metric\n",
    "    ce = C.cross_entropy_with_softmax(z, label_var)\n",
    "    pe = C.classification_error(z, label_var)\n",
    "\n",
    "    # training config\n",
    "    epoch_size     = 100\n",
    "    minibatch_size = 4\n",
    "\n",
    "    # Set training parameters\n",
    "    lr_per_minibatch       = C.learning_parameter_schedule([0.01]*10 + [0.003]*10 + [0.001],\n",
    "                                                       epoch_size = epoch_size)\n",
    "    momentums              = C.momentum_schedule(0.9, minibatch_size = minibatch_size)\n",
    "    l2_reg_weight          = 0.001\n",
    "\n",
    "    # trainer object\n",
    "    #learner = C.momentum_sgd(z.parameters,\n",
    "    #                         lr = lr_per_minibatch,\n",
    "    #                         momentum = momentums,\n",
    "    #                         l2_regularization_weight=l2_reg_weight)\n",
    "    learner = C.sgd(z.parameters,lr=lr_per_minibatch)\n",
    "    progress_printer = C.logging.ProgressPrinter(tag='Training', num_epochs=max_epochs)\n",
    "    trainer = C.Trainer(z, (ce, pe), [learner], [progress_printer])\n",
    "\n",
    "    # define mapping from reader streams to network inputs\n",
    "    input_map = {\n",
    "        input_var: reader_train.streams.features,\n",
    "        label_var: reader_train.streams.labels\n",
    "    }\n",
    "\n",
    "    C.logging.log_number_of_parameters(z) ; print()\n",
    "\n",
    "    # perform model training\n",
    "    batch_index = 0\n",
    "    plot_data = {'batchindex':[], 'loss':[], 'error':[]}\n",
    "    for epoch in range(max_epochs):       # loop over epochs\n",
    "        sample_count = 0\n",
    "        while sample_count < epoch_size:  # loop over minibatches in the epoch\n",
    "            data = reader_train.next_minibatch(min(minibatch_size, epoch_size - sample_count),\n",
    "                                               input_map=input_map) # fetch minibatch.\n",
    "            trainer.train_minibatch(data)                                   # update model with it\n",
    "\n",
    "            sample_count += data[label_var].num_samples                     # count samples processed so far\n",
    "\n",
    "            # For visualization...\n",
    "            plot_data['batchindex'].append(batch_index)\n",
    "            plot_data['loss'].append(trainer.previous_minibatch_loss_average)\n",
    "            plot_data['error'].append(trainer.previous_minibatch_evaluation_average)\n",
    "\n",
    "            batch_index += 1\n",
    "        trainer.summarize_training_progress()\n",
    "\n",
    "    #\n",
    "    # Evaluation action\n",
    "    #\n",
    "    epoch_size     = 10\n",
    "    minibatch_size = 16\n",
    "\n",
    "    # process minibatches and evaluate the model\n",
    "    metric_numer    = 0\n",
    "    metric_denom    = 0\n",
    "    sample_count    = 0\n",
    "    minibatch_index = 0\n",
    "\n",
    "    while sample_count < epoch_size:\n",
    "        current_minibatch = min(minibatch_size, epoch_size - sample_count)\n",
    "\n",
    "        # Fetch next test min batch.\n",
    "        data = reader_test.next_minibatch(current_minibatch, input_map=input_map)\n",
    "\n",
    "        # minibatch data to be trained with\n",
    "        metric_numer += trainer.test_minibatch(data) * current_minibatch\n",
    "        metric_denom += current_minibatch\n",
    "\n",
    "        # Keep track of the number of samples processed so far.\n",
    "        sample_count += data[label_var].num_samples\n",
    "        minibatch_index += 1\n",
    "\n",
    "    print(\"\")\n",
    "    print(\"Final Results: Minibatch[1-{}]: errs = {:0.1f}% * {}\".format(minibatch_index+1, (metric_numer*100.0)/metric_denom, metric_denom))\n",
    "    print(\"\")\n",
    "\n",
    "    # Visualize training result:\n",
    "    window_width            = 32\n",
    "    loss_cumsum             = np.cumsum(np.insert(plot_data['loss'], 0, 0))\n",
    "    error_cumsum            = np.cumsum(np.insert(plot_data['error'], 0, 0))\n",
    "\n",
    "    # Moving average.\n",
    "    plot_data['batchindex'] = np.insert(plot_data['batchindex'], 0, 0)[window_width:]\n",
    "    plot_data['avg_loss']   = (loss_cumsum[window_width:] - loss_cumsum[:-window_width]) / window_width\n",
    "    plot_data['avg_error']  = (error_cumsum[window_width:] - error_cumsum[:-window_width]) / window_width\n",
    "\n",
    "    plt.figure(1)\n",
    "    plt.subplot(211)\n",
    "    plt.plot(plot_data[\"batchindex\"], plot_data[\"avg_loss\"], 'b--')\n",
    "    plt.xlabel('Minibatch number')\n",
    "    plt.ylabel('Loss')\n",
    "    plt.title('Minibatch run vs. Training loss ')\n",
    "\n",
    "    plt.show()\n",
    "\n",
    "    plt.subplot(212)\n",
    "    plt.plot(plot_data[\"batchindex\"], plot_data[\"avg_error\"], 'r--')\n",
    "    plt.xlabel('Minibatch number')\n",
    "    plt.ylabel('Label Prediction Error')\n",
    "    plt.title('Minibatch run vs. Label Prediction Error ')\n",
    "    plt.show()\n",
    "\n",
    "    return C.softmax(z)"
   ]
  },
  {
   "cell_type": "code",
   "execution_count": 14,
   "metadata": {
    "scrolled": true
   },
   "outputs": [
    {
     "name": "stdout",
     "output_type": "stream",
     "text": [
      "Training 1001772 parameters in 10 parameter tensors.\n",
      "\n",
      "Learning rate per minibatch: 0.01\n",
      "Finished Epoch[1 of 50]: [Training] loss = 2.418881 * 100, metric = 87.00% * 100 1.626s ( 61.5 samples/s);\n",
      "Finished Epoch[2 of 50]: [Training] loss = 2.224711 * 100, metric = 66.00% * 100 1.132s ( 88.3 samples/s);\n",
      "Finished Epoch[3 of 50]: [Training] loss = 2.312162 * 100, metric = 76.00% * 100 0.741s (135.0 samples/s);\n",
      "Finished Epoch[4 of 50]: [Training] loss = 2.119567 * 100, metric = 71.00% * 100 0.703s (142.2 samples/s);\n",
      "Finished Epoch[5 of 50]: [Training] loss = 2.044655 * 100, metric = 61.00% * 100 0.989s (101.1 samples/s);\n",
      "Finished Epoch[6 of 50]: [Training] loss = 1.774274 * 100, metric = 61.00% * 100 0.569s (175.7 samples/s);\n",
      "Finished Epoch[7 of 50]: [Training] loss = 1.447831 * 100, metric = 51.00% * 100 0.364s (274.7 samples/s);\n",
      "Finished Epoch[8 of 50]: [Training] loss = 1.510182 * 100, metric = 46.00% * 100 0.312s (320.5 samples/s);\n",
      "Finished Epoch[9 of 50]: [Training] loss = 1.327862 * 100, metric = 39.00% * 100 0.326s (306.7 samples/s);\n",
      "Finished Epoch[10 of 50]: [Training] loss = 1.096548 * 100, metric = 37.00% * 100 0.283s (353.4 samples/s);\n",
      "Learning rate per minibatch: 0.003\n",
      "Finished Epoch[11 of 50]: [Training] loss = 0.667844 * 100, metric = 19.00% * 100 0.248s (403.2 samples/s);\n",
      "Finished Epoch[12 of 50]: [Training] loss = 0.776624 * 100, metric = 27.00% * 100 0.214s (467.3 samples/s);\n",
      "Finished Epoch[13 of 50]: [Training] loss = 0.658008 * 100, metric = 24.00% * 100 0.222s (450.5 samples/s);\n",
      "Finished Epoch[14 of 50]: [Training] loss = 0.669088 * 100, metric = 21.00% * 100 0.212s (471.7 samples/s);\n",
      "Finished Epoch[15 of 50]: [Training] loss = 0.659009 * 100, metric = 19.00% * 100 0.243s (411.5 samples/s);\n",
      "Finished Epoch[16 of 50]: [Training] loss = 0.575766 * 100, metric = 18.00% * 100 0.214s (467.3 samples/s);\n",
      "Finished Epoch[17 of 50]: [Training] loss = 0.476502 * 100, metric = 13.00% * 100 0.228s (438.6 samples/s);\n",
      "Finished Epoch[18 of 50]: [Training] loss = 0.672810 * 100, metric = 24.00% * 100 0.244s (409.8 samples/s);\n",
      "Finished Epoch[19 of 50]: [Training] loss = 0.588958 * 100, metric = 21.00% * 100 0.255s (392.2 samples/s);\n",
      "Finished Epoch[20 of 50]: [Training] loss = 0.663182 * 100, metric = 24.00% * 100 0.214s (467.3 samples/s);\n",
      "Learning rate per minibatch: 0.001\n",
      "Finished Epoch[21 of 50]: [Training] loss = 0.486863 * 100, metric = 18.00% * 100 0.213s (469.5 samples/s);\n",
      "Finished Epoch[22 of 50]: [Training] loss = 0.484919 * 100, metric = 17.00% * 100 0.215s (465.1 samples/s);\n",
      "Finished Epoch[23 of 50]: [Training] loss = 0.493490 * 100, metric = 17.00% * 100 0.256s (390.6 samples/s);\n",
      "Finished Epoch[24 of 50]: [Training] loss = 0.348194 * 100, metric = 12.00% * 100 0.206s (485.4 samples/s);\n",
      "Finished Epoch[25 of 50]: [Training] loss = 0.342655 * 100, metric = 12.00% * 100 0.206s (485.4 samples/s);\n",
      "Finished Epoch[26 of 50]: [Training] loss = 0.346571 * 100, metric = 16.00% * 100 0.222s (450.5 samples/s);\n",
      "Finished Epoch[27 of 50]: [Training] loss = 0.364048 * 100, metric = 11.00% * 100 0.210s (476.2 samples/s);\n",
      "Finished Epoch[28 of 50]: [Training] loss = 0.347546 * 100, metric = 17.00% * 100 0.297s (336.7 samples/s);\n",
      "Finished Epoch[29 of 50]: [Training] loss = 0.500608 * 100, metric = 19.00% * 100 0.214s (467.3 samples/s);\n",
      "Finished Epoch[30 of 50]: [Training] loss = 0.385745 * 100, metric = 16.00% * 100 0.213s (469.5 samples/s);\n",
      "Finished Epoch[31 of 50]: [Training] loss = 0.406073 * 100, metric = 14.00% * 100 0.209s (478.5 samples/s);\n",
      "Finished Epoch[32 of 50]: [Training] loss = 0.461255 * 100, metric = 15.00% * 100 0.231s (432.9 samples/s);\n",
      "Finished Epoch[33 of 50]: [Training] loss = 0.488694 * 100, metric = 14.00% * 100 0.219s (456.6 samples/s);\n",
      "Finished Epoch[34 of 50]: [Training] loss = 0.292120 * 100, metric = 12.00% * 100 0.209s (478.5 samples/s);\n",
      "Finished Epoch[35 of 50]: [Training] loss = 0.282859 * 100, metric = 9.00% * 100 0.203s (492.6 samples/s);\n",
      "Finished Epoch[36 of 50]: [Training] loss = 0.351195 * 100, metric = 13.00% * 100 0.231s (432.9 samples/s);\n",
      "Finished Epoch[37 of 50]: [Training] loss = 0.465146 * 100, metric = 18.00% * 100 0.233s (429.2 samples/s);\n",
      "Finished Epoch[38 of 50]: [Training] loss = 0.374331 * 100, metric = 13.00% * 100 0.216s (463.0 samples/s);\n",
      "Finished Epoch[39 of 50]: [Training] loss = 0.413694 * 100, metric = 16.00% * 100 0.209s (478.5 samples/s);\n",
      "Finished Epoch[40 of 50]: [Training] loss = 0.267961 * 100, metric = 9.00% * 100 0.214s (467.3 samples/s);\n",
      "Finished Epoch[41 of 50]: [Training] loss = 0.403803 * 100, metric = 11.00% * 100 0.230s (434.8 samples/s);\n",
      "Finished Epoch[42 of 50]: [Training] loss = 0.279328 * 100, metric = 9.00% * 100 0.244s (409.8 samples/s);\n",
      "Finished Epoch[43 of 50]: [Training] loss = 0.229560 * 100, metric = 6.00% * 100 0.210s (476.2 samples/s);\n",
      "Finished Epoch[44 of 50]: [Training] loss = 0.368109 * 100, metric = 15.00% * 100 0.214s (467.3 samples/s);\n",
      "Finished Epoch[45 of 50]: [Training] loss = 0.398832 * 100, metric = 13.00% * 100 0.221s (452.5 samples/s);\n",
      "Finished Epoch[46 of 50]: [Training] loss = 0.202673 * 100, metric = 6.00% * 100 0.232s (431.0 samples/s);\n",
      "Finished Epoch[47 of 50]: [Training] loss = 0.376901 * 100, metric = 17.00% * 100 0.241s (414.9 samples/s);\n",
      "Finished Epoch[48 of 50]: [Training] loss = 0.370379 * 100, metric = 12.00% * 100 0.223s (448.4 samples/s);\n",
      "Finished Epoch[49 of 50]: [Training] loss = 0.391259 * 100, metric = 12.00% * 100 0.226s (442.5 samples/s);\n",
      "Finished Epoch[50 of 50]: [Training] loss = 0.303496 * 100, metric = 13.00% * 100 0.272s (367.6 samples/s);\n",
      "\n",
      "Final Results: Minibatch[1-2]: errs = 30.0% * 10\n",
      "\n"
     ]
    },
    {
     "data": {
      "image/png": "[encoded data removed]",
      "text/plain": [
       "<matplotlib.figure.Figure at 0x7f706b6dcd68>"
      ]
     },
     "metadata": {},
     "output_type": "display_data"
    },
    {
     "data": {
      "image/png": "[encoded data removed]",
      "text/plain": [
       "<matplotlib.figure.Figure at 0x7f706b643438>"
      ]
     },
     "metadata": {},
     "output_type": "display_data"
    }
   ],
   "source": [
    "pred = train_and_evaluate(reader_train,\n",
    "                          reader_test,\n",
    "                          max_epochs=50,\n",
    "                          model_func=create_basic_model)"
   ]
  },
  {
   "cell_type": "code",
   "execution_count": 15,
   "metadata": {},
   "outputs": [
    {
     "data": {
      "text/plain": [
       "Composite(Softmax): Input('Input1055', [#], [3 x 128 x 128]) -> Output('Softmax1660_Output_0', [#], [12])"
      ]
     },
     "execution_count": 15,
     "metadata": {},
     "output_type": "execute_result"
    }
   ],
   "source": [
    "pred"
   ]
  },
  {
   "cell_type": "code",
   "execution_count": 26,
   "metadata": {},
   "outputs": [],
   "source": [
    "def eval(pred_op, image_data):\n",
    "    label_lookup = le.classes_\n",
    "    image_mean = 133.0\n",
    "    image_data -= image_mean\n",
    "    image_data = np.ascontiguousarray(np.transpose(image_data, (2, 0, 1)))\n",
    "\n",
    "    result = np.squeeze(pred_op.eval({pred_op.arguments[0]:[image_data]}))\n",
    "\n",
    "    # Return top 3 results:\n",
    "    top_count = 3\n",
    "    result_indices = (-np.array(result)).argsort()[:top_count]\n",
    "\n",
    "    print(\"Top 3 predictions:\")\n",
    "    for i in range(top_count):\n",
    "        print(\"\\tLabel: {:10s}, confidence: {:.2f}%\".format(label_lookup[result_indices[i]], result[result_indices[i]] * 100))"
   ]
  },
  {
   "cell_type": "code",
   "execution_count": 27,
   "metadata": {},
   "outputs": [],
   "source": [
    "img = Image.Image.open('gear_images_128x128_tst/gloves/10230884x1078391_zm.jpg')"
   ]
  },
  {
   "cell_type": "code",
   "execution_count": 28,
   "metadata": {},
   "outputs": [],
   "source": [
    "img = np.array(img, dtype=np.float32)"
   ]
  },
  {
   "cell_type": "code",
   "execution_count": 29,
   "metadata": {},
   "outputs": [
    {
     "name": "stdout",
     "output_type": "stream",
     "text": [
      "Top 3 predictions:\n",
      "\tLabel: gloves    , confidence: 76.78%\n",
      "\tLabel: boots     , confidence: 9.61%\n",
      "\tLabel: pulleys   , confidence: 8.98%\n"
     ]
    }
   ],
   "source": [
    "eval(pred, img)"
   ]
  },
  {
   "cell_type": "code",
   "execution_count": 32,
   "metadata": {},
   "outputs": [],
   "source": [
    "def eval_one(pred_op, image_data):\n",
    "    label_lookup = le.classes_\n",
    "    image_mean = 133.0\n",
    "    image_data -= image_mean\n",
    "    image_data = np.ascontiguousarray(np.transpose(image_data, (2, 0, 1)))\n",
    "\n",
    "    result = np.squeeze(pred_op.eval({pred_op.arguments[0]:[image_data]}))\n",
    "\n",
    "    # Return top 3 results:\n",
    "    # top_count = 3\n",
    "    # result_indices = (-np.array(result)).argsort()[:top_count]\n",
    "    return (-np.array(result)).argsort()[0]"
   ]
  },
  {
   "cell_type": "code",
   "execution_count": 33,
   "metadata": {},
   "outputs": [
    {
     "data": {
      "text/plain": [
       "4"
      ]
     },
     "execution_count": 33,
     "metadata": {},
     "output_type": "execute_result"
    }
   ],
   "source": [
    "eval_one(pred, img)"
   ]
  },
  {
   "cell_type": "code",
   "execution_count": 36,
   "metadata": {},
   "outputs": [],
   "source": [
    "y_pred = []\n",
    "for x in [ np.array(Image.Image.open(x[1]), dtype=np.float32) for x in X_test_]:\n",
    "    y_pred.append(eval_one(pred, x))"
   ]
  },
  {
   "cell_type": "code",
   "execution_count": 37,
   "metadata": {},
   "outputs": [],
   "source": [
    "from sklearn.metrics import confusion_matrix\n",
    "from sklearn.metrics import accuracy_score\n",
    "import matplotlib.pyplot as plt\n",
    "import itertools\n",
    "%matplotlib inline"
   ]
  },
  {
   "cell_type": "code",
   "execution_count": 38,
   "metadata": {},
   "outputs": [],
   "source": [
    "def plot_confusion_matrix(cm, classes,\n",
    "                          normalize=False,\n",
    "                          title='Confusion matrix',\n",
    "                          cmap=plt.cm.Blues):\n",
    "    \"\"\"\n",
    "    This function prints and plots the confusion matrix.\n",
    "    Normalization can be applied by setting `normalize=True`.\n",
    "    \"\"\"\n",
    "    if normalize:\n",
    "        cm = cm.astype('float') / cm.sum(axis=1)[:, np.newaxis]\n",
    "        print(\"Normalized confusion matrix\")\n",
    "    else:\n",
    "        print('Confusion matrix, without normalization')\n",
    "\n",
    "    print(cm)\n",
    "\n",
    "    plt.imshow(cm, interpolation='nearest', cmap=cmap)\n",
    "    plt.title(title)\n",
    "    plt.colorbar()\n",
    "    tick_marks = np.arange(len(classes))\n",
    "    plt.xticks(tick_marks, classes, rotation=45)\n",
    "    plt.yticks(tick_marks, classes)\n",
    "\n",
    "    fmt = '.2f' if normalize else 'd'\n",
    "    thresh = cm.max() / 2.\n",
    "    for i, j in itertools.product(range(cm.shape[0]), range(cm.shape[1])):\n",
    "        plt.text(j, i, format(cm[i, j], fmt),\n",
    "                 horizontalalignment=\"center\",\n",
    "                 color=\"white\" if cm[i, j] > thresh else \"black\")\n",
    "\n",
    "    plt.tight_layout()\n",
    "    plt.ylabel('True label')\n",
    "    plt.xlabel('Predicted label')\n"
   ]
  },
  {
   "cell_type": "code",
   "execution_count": 42,
   "metadata": {},
   "outputs": [
    {
     "name": "stdout",
     "output_type": "stream",
     "text": [
      "Confusion matrix, without normalization\n",
      "[[12  0  3  3  1  0  1  0  0  0  0  0]\n",
      " [ 0 21  0  0  0  0  0  0  0  0  0  0]\n",
      " [ 0  0 69  1  0  0  0  1  0  1  0  0]\n",
      " [ 0  0  0 30  0  0  1  0  0  0  0  0]\n",
      " [ 0  1  0  0 48  0  0  0  1  0  0  0]\n",
      " [ 0  0  1  0  0 80  0  0 29  1  1  0]\n",
      " [ 0  0  1  0  0  0 46  0  0  0  0  0]\n",
      " [ 0  0  0  0  0  0  0 20  0  0  0  0]\n",
      " [ 0  0  0  0  1 10  0  0 58  0  0  0]\n",
      " [ 0  0  0  2  2  0  0  0  1  8  0  0]\n",
      " [ 0  1  0  0  3  0  2  0  0  0 37  0]\n",
      " [ 0  0  0  0  1  0  0  0  0  0  0 32]]\n"
     ]
    },
    {
     "data": {
      "image/png": "[encoded data removed]",
      "text/plain": [
       "<matplotlib.figure.Figure at 0x7f706836ee10>"
      ]
     },
     "metadata": {},
     "output_type": "display_data"
    }
   ],
   "source": [
    "plot_confusion_matrix(confusion_matrix(y_test, y_pred), le.classes_);"
   ]
  },
  {
   "cell_type": "code",
   "execution_count": null,
   "metadata": {},
   "outputs": [],
   "source": []
  }
 ],
 "metadata": {
  "kernelspec": {
   "display_name": "Python 3",
   "language": "python",
   "name": "python3"
  },
  "language_info": {
   "codemirror_mode": {
    "name": "ipython",
    "version": 3
   },
   "file_extension": ".py",
   "mimetype": "text/x-python",
   "name": "python",
   "nbconvert_exporter": "python",
   "pygments_lexer": "ipython3",
   "version": "3.5.4"
  }
 },
 "nbformat": 4,
 "nbformat_minor": 2
}
